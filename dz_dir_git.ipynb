import tkinter
from  tkinter import ttk
import os
import shutil

def button_show(bb):
    #print("bbb",bb)
    #os.chdir(bb)
    ddd = os.listdir()
    #print("item_list ", item_list)
    main_table.delete(*main_table.get_children())
    for row in ddd:
        #print(row)
        main_table.insert("", "end", values=row)

def button_add():
    dir_str = entry_name_dir.get()
    os.mkdir(dir_str)
    entry_name_dir.delete(0,'end')
    entry_name_dir.insert(0,"выполнено")


def button_mov(bb):
    file_id = main_table.selection()
    file_move = main_table.item(file_id)["values"][0]
    print("-------------",dir_line+"/"+file_move)
    dir_str = entry_name_mv.get()
    print("-------------",dir_str+"/"+file_move)
    #shutil.move(file_move, dir_str)
    
def button_copy(bb):
    file_id = main_table.selection()
    file_cp = main_table.item(file_id)["values"][0]    
    dir_str2 = entry_name_cp.get()
    print("source     --",dir_line+"/"+file_cp)
    print("destination--", dir_str2 + "/"+file_cp)
    shutil.move(dir_line+"/"+file_cp, dir_str2 + "/"+file_cp)

def button_create(bb):
    dir_cr = entry_name_cr.get()
    open(dir_cr,"a").close()

def button_del(bb):
    dir_del = entry_name_dl.get()
    print("delete path", dir_del)
    os.remove(dir_del)
    
dir_line = os.getcwd()
    
    
main_win = tkinter.Tk()
main_win.title('Explorer_next')
main_win.geometry('1510x900')

button_sh = tkinter.Button(main_win, bg = "blue" , fg = "red", height=3,  text = "показать", font = "Arial 16")
button_sh.place(x=20, y=25)
button_sh.configure(command=lambda : button_show(dir_line)) #Связываем кнопку с функцией

button_ad = tkinter.Button(main_win, bg = "blue" , fg = "red", height=3,  text = "добавить папку", font = "Arial 16")
button_ad.place(x=20, y=105)
button_ad.configure(command=lambda : button_add()) #Связываем кнопку с функцией

entry_name_dir = tkinter.Entry(main_win)
entry_name_dir.insert(0,"test")
entry_name_dir.place(x=350, y=105, width=250, height=30)

button_mv = tkinter.Button(main_win, bg = "blue" , fg = "red", height=3,  text = "переместить", font = "Arial 16")
button_mv.place(x=20, y=210)
button_mv.configure(command=lambda : button_mov(dir_line)) #Связываем кнопку с функцией

entry_name_mv = tkinter.Entry(main_win)
entry_name_mv.insert(0,"/home/Public")
entry_name_mv.place(x=350, y=210, width=250, height=30)


button_cp = tkinter.Button(main_win, bg = "blue" , fg = "red", height=3,  text = "копировать файл", font = "Arial 16")
button_cp.place(x=20, y=315)
button_cp.configure(command=lambda : button_copy(dir_line)) #Связываем кнопку с функцией

entry_name_cp = tkinter.Entry(main_win)
entry_name_cp.insert(0,"/home/sv/Public")
entry_name_cp.place(x=350, y=315, width=250, height=30)

button_cr = tkinter.Button(main_win, bg = "blue" , fg = "red", height=3,  text = "создать файл", font = "Arial 16")
button_cr.place(x=20, y=425)
button_cr.configure(command=lambda : button_create(dir_line)) #Связываем кнопку с функцией

entry_name_cr = tkinter.Entry(main_win)
entry_name_cr.insert(0,"test.txt")
entry_name_cr.place(x=350, y=425, width=250, height=30)


button_dl = tkinter.Button(main_win, bg = "blue" , fg = "red", height=3,  text = "удалить файл", font = "Arial 16")
button_dl.place(x=20, y=525)
button_dl.configure(command=lambda : button_del(dir_line)) #Связываем кнопку с функцией

entry_name_dl = tkinter.Entry(main_win)
entry_name_dl.insert(0,"test.txt")
entry_name_dl.place(x=350, y=525, width=250, height=30)

columns = ("name", "size", "date")

dir_list = os.listdir()

main_table = ttk.Treeview(columns=columns, show="headings")
#scrollbar = ttk.Scrollbar(orient="vertical", command=main_table.yview)
scrollbar = ttk.Scrollbar(command=main_table.yview)
main_table.configure(yscroll=scrollbar.set)
main_table.place(x=10, y=50) 

main_table.pack(expand=1, ipadx=0.01, ipady=0.1)

#main_table.bind("<<TreeviewSelect>>", item_selected)


main_win.mainloop()
